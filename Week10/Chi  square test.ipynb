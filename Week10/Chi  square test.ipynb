{
 "cells": [
  {
   "cell_type": "markdown",
   "id": "5a2c399f",
   "metadata": {},
   "source": [
    "Chi Square Test"
   ]
  },
  {
   "cell_type": "code",
   "execution_count": 2,
   "id": "e4932e94-4980-4cac-9899-d3f27c142754",
   "metadata": {},
   "outputs": [],
   "source": [
    "import scipy.stats as stats\n",
    "import numpy as np"
   ]
  },
  {
   "cell_type": "code",
   "execution_count": 4,
   "id": "0ed9fb45-30e6-45a0-a006-e3f3b557f7d8",
   "metadata": {},
   "outputs": [],
   "source": [
    "## No of hours student study in a weekly basis daily\n",
    "##monday,tuesday,Wednesday,thursday,Friday,Saturday,sunday\n",
    "expected_data = [8,6,7,9,6,9,7]\n",
    "observed_data = [7,8,6,9,9,6,7]"
   ]
  },
  {
   "cell_type": "code",
   "execution_count": 5,
   "id": "46706cb1-6703-45eb-af6d-8ae256edef07",
   "metadata": {},
   "outputs": [
    {
     "data": {
      "text/plain": [
       "(52, 52)"
      ]
     },
     "execution_count": 5,
     "metadata": {},
     "output_type": "execute_result"
    }
   ],
   "source": [
    "sum(expected_data), sum(observed_data)"
   ]
  },
  {
   "cell_type": "code",
   "execution_count": 6,
   "id": "8423b7c2-04b7-407a-89e3-777238133f14",
   "metadata": {},
   "outputs": [],
   "source": [
    "## Chi-Square Goodness Of Fit Test\n",
    "chisquare_test_statistic, p_value = stats.chisquare(observed_data, expected_data)"
   ]
  },
  {
   "cell_type": "code",
   "execution_count": 7,
   "id": "eee1f120-4777-41cd-b6ce-7846fe25a160",
   "metadata": {},
   "outputs": [
    {
     "data": {
      "text/plain": [
       "(3.4345238095238093, 0.7526596580922865)"
      ]
     },
     "execution_count": 7,
     "metadata": {},
     "output_type": "execute_result"
    }
   ],
   "source": [
    "chisquare_test_statistic, p_value"
   ]
  },
  {
   "cell_type": "code",
   "execution_count": 18,
   "id": "e1cbda1a-4501-4676-a05a-2040c35b9e4e",
   "metadata": {},
   "outputs": [],
   "source": [
    "## find the critical value\n",
    "S_value = 0.05\n",
    "dof = len(expected_data) -1\n",
    "critical_value = stats.chi2.ppf(1-S_value, dof)"
   ]
  },
  {
   "cell_type": "code",
   "execution_count": 19,
   "id": "1e93338c-b8e2-46c4-8b0c-85823aa190fd",
   "metadata": {},
   "outputs": [
    {
     "data": {
      "text/plain": [
       "12.591587243743977"
      ]
     },
     "execution_count": 19,
     "metadata": {},
     "output_type": "execute_result"
    }
   ],
   "source": [
    "critical_value"
   ]
  },
  {
   "cell_type": "code",
   "execution_count": null,
   "id": "0ac37cfd-8b13-4fc9-aa7e-528fb71a1403",
   "metadata": {},
   "outputs": [],
   "source": [
    "if chisquare_test_statistic > critical_value:\n",
    "    print(\"Reject the null hypothesis\")\n",
    "else:\n",
    "    print(\"Accept the null hypothesis\")"
   ]
  }
 ],
 "metadata": {
  "kernelspec": {
   "display_name": "Python 3 (ipykernel)",
   "language": "python",
   "name": "python3"
  },
  "language_info": {
   "codemirror_mode": {
    "name": "ipython",
    "version": 3
   },
   "file_extension": ".py",
   "mimetype": "text/x-python",
   "name": "python",
   "nbconvert_exporter": "python",
   "pygments_lexer": "ipython3",
   "version": "3.10.8"
  }
 },
 "nbformat": 4,
 "nbformat_minor": 5
}
