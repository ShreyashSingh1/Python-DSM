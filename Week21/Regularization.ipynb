{
  "cells": [
    {
      "cell_type": "markdown",
      "metadata": {
        "id": "UKxjhMqYCYmY"
      },
      "source": [
        "# Implementation of ANN using Keras:\n",
        "\n",
        "https://playground.tensorflow.org/#activation=tanh&batchSize=10&dataset=circle&regDataset=reg-plane&learningRate=0.03&regularizationRate=0&noise=0&networkShape=4,2&seed=0.19642&showTestData=false&discretize=false&percTrainData=50&x=true&y=true&xTimesY=false&xSquared=false&ySquared=false&cosX=false&sinX=false&cosY=false&sinY=false&collectStats=false&problem=classification&initZero=false&hideText=false\n",
        "\n",
        "# Avoiding Overfitting Through Regularization\n",
        "\n",
        "Regularization is the process of adding information in order to solve an ill-posed problem or to prevent overfitting. Regularization can be applied to objective functions in ill-posed optimization problems.\n",
        "\n",
        "\n",
        "\n",
        "# L1 Regularization | Lasso | Least Absolute:\n",
        "$j_n(\\theta ) = j_0(\\theta ) + \\alpha \\sum_{i=1}^{m}\\left | \\theta_i \\right |$\n",
        "\n",
        "# L2 Regularization | Ridge\n",
        "$j_n(\\theta ) = j_0(\\theta ) + \\frac{\\alpha}{2} \\sum_{i=1}^{m}(\\theta_i)^2$\n",
        "\n",
        "\n",
        "# L1 - L2 Regularization \n",
        "$j_n(\\theta ) = j_0(\\theta ) + r\\alpha \\sum_{i=1}^{m}\\left | \\theta_i \\right | + \\frac{(1-r)}{2} \\alpha \\sum_{i=1}^{m}(\\theta_i)^2$\n",
        "\n",
        "\n",
        "# Dropout:\n",
        "[Refer the paper](https://jmlr.org/papers/volume15/srivastava14a/srivastava14a.pdf)"
      ]
    },
    {
      "cell_type": "code",
      "execution_count": 8,
      "metadata": {
        "id": "8cyFiytTqQ9y"
      },
      "outputs": [],
      "source": [
        "# Importing Libraries\n",
        "import tensorflow as tf\n",
        "import matplotlib.pyplot as plt\n",
        "import numpy as np\n",
        "import pandas as pd\n",
        "import seaborn as sns\n",
        "import os"
      ]
    },
    {
      "cell_type": "code",
      "execution_count": 9,
      "metadata": {
        "colab": {
          "base_uri": "https://localhost:8080/"
        },
        "id": "zRzBH6nAzVe4",
        "outputId": "45c2e712-d487-4b1d-8ab6-cc8e1bb73137"
      },
      "outputs": [
        {
          "name": "stdout",
          "output_type": "stream",
          "text": [
            "Tensorflow Version 2.15.0\n",
            "Keras Version 2.15.0\n"
          ]
        }
      ],
      "source": [
        "# Checking version of Tensorflow and Keras\n",
        "print(f\"Tensorflow Version {tf.__version__}\")\n",
        "print(f\"Keras Version {tensorflow.keras.__version__}\")"
      ]
    },
    {
      "cell_type": "markdown",
      "metadata": {
        "id": "U-KWX4byz2uJ"
      },
      "source": [
        "# GPU / CPU Check"
      ]
    },
    {
      "cell_type": "code",
      "execution_count": 10,
      "metadata": {
        "colab": {
          "base_uri": "https://localhost:8080/"
        },
        "id": "toOEyljOzzju",
        "outputId": "fe6a0d8b-94cd-4fe5-86b1-c4b080c1b28e"
      },
      "outputs": [
        {
          "data": {
            "text/plain": [
              "[]"
            ]
          },
          "execution_count": 10,
          "metadata": {},
          "output_type": "execute_result"
        }
      ],
      "source": [
        "tf.config.list_physical_devices(\"GPU\")"
      ]
    },
    {
      "cell_type": "code",
      "execution_count": 11,
      "metadata": {
        "colab": {
          "base_uri": "https://localhost:8080/"
        },
        "id": "fQ7_Dy77z9ad",
        "outputId": "7ddf9cb1-d1c9-4d7a-924a-a029cb67b1c8"
      },
      "outputs": [
        {
          "data": {
            "text/plain": [
              "[PhysicalDevice(name='/physical_device:CPU:0', device_type='CPU')]"
            ]
          },
          "execution_count": 11,
          "metadata": {},
          "output_type": "execute_result"
        }
      ],
      "source": [
        "tf.config.list_physical_devices(\"CPU\")"
      ]
    },
    {
      "cell_type": "code",
      "execution_count": 12,
      "metadata": {
        "colab": {
          "base_uri": "https://localhost:8080/"
        },
        "id": "BzQV7xH70AE-",
        "outputId": "49d71120-dad0-48fd-9330-135e5415eafd"
      },
      "outputs": [
        {
          "name": "stdout",
          "output_type": "stream",
          "text": [
            "GPU isn't available!\n",
            "CPU is available!\n",
            "Details >> [PhysicalDevice(name='/physical_device:CPU:0', device_type='CPU')]\n"
          ]
        }
      ],
      "source": [
        "check_list = ['GPU','CPU']\n",
        "\n",
        "for device in check_list:\n",
        "  out = tf.config.list_physical_devices(device)\n",
        "  if len(out) > 0:\n",
        "    print(f\"{device} is available!\")\n",
        "    print(f\"Details >> {out}\")\n",
        "  else:\n",
        "    print(f\"{device} isn't available!\")"
      ]
    },
    {
      "cell_type": "markdown",
      "metadata": {
        "id": "gYt1wtqx0H0g"
      },
      "source": [
        "# Creating a simple classifier using keras on MNIST data"
      ]
    },
    {
      "cell_type": "code",
      "execution_count": 13,
      "metadata": {
        "colab": {
          "base_uri": "https://localhost:8080/"
        },
        "id": "lA3Jiupu0Ck1",
        "outputId": "6942b495-0b55-4386-81dc-bbf20199b1f5"
      },
      "outputs": [],
      "source": [
        "mnist = tf.keras.datasets.mnist\n",
        "(X_train_full, y_train_full), (X_test, y_test) = mnist.load_data()"
      ]
    },
    {
      "cell_type": "code",
      "execution_count": 14,
      "metadata": {
        "colab": {
          "base_uri": "https://localhost:8080/"
        },
        "id": "Ij9IgzYL0Nl1",
        "outputId": "2c571daa-4532-4974-9bdf-05c9708eeedc"
      },
      "outputs": [
        {
          "name": "stdout",
          "output_type": "stream",
          "text": [
            "data type of X_train_full: uint8,\n",
            " shape of X_train_full: (60000, 28, 28)\n"
          ]
        }
      ],
      "source": [
        "print(f\"data type of X_train_full: {X_train_full.dtype},\\n shape of X_train_full: {X_train_full.shape}\")"
      ]
    },
    {
      "cell_type": "code",
      "execution_count": 15,
      "metadata": {
        "colab": {
          "base_uri": "https://localhost:8080/"
        },
        "id": "sTmnrnXX0Rv4",
        "outputId": "2287d661-737a-4ec9-8342-850a5173c8c6"
      },
      "outputs": [
        {
          "data": {
            "text/plain": [
              "(10000, 28, 28)"
            ]
          },
          "execution_count": 15,
          "metadata": {},
          "output_type": "execute_result"
        }
      ],
      "source": [
        "X_test.shape"
      ]
    },
    {
      "cell_type": "code",
      "execution_count": 16,
      "metadata": {
        "colab": {
          "base_uri": "https://localhost:8080/"
        },
        "id": "HVFEv8wJ0Txm",
        "outputId": "5f94d869-4cc9-4aab-f32b-fda69ce2ce4a"
      },
      "outputs": [
        {
          "data": {
            "text/plain": [
              "28"
            ]
          },
          "execution_count": 16,
          "metadata": {},
          "output_type": "execute_result"
        }
      ],
      "source": [
        "len(X_test[1][0])"
      ]
    },
    {
      "cell_type": "code",
      "execution_count": 17,
      "metadata": {
        "id": "enACwUkT0aIA"
      },
      "outputs": [],
      "source": [
        "# create a validation data set from the full training data\n",
        "# Scale the data between 0 to 1 by dividing it by 255. as its an unsigned data between 0-255 range\n",
        "X_valid, X_train = X_train_full[:5000] / 255., X_train_full[5000:] / 255.\n",
        "y_valid, y_train = y_train_full[:5000], y_train_full[5000:]\n",
        "\n",
        "# scale the test set as well\n",
        "X_test = X_test / 255.\n"
      ]
    },
    {
      "cell_type": "code",
      "execution_count": 18,
      "metadata": {
        "colab": {
          "base_uri": "https://localhost:8080/"
        },
        "id": "kry0b-Gr0d5P",
        "outputId": "9f037f4c-6eb6-46a3-865a-2c1d24798e18"
      },
      "outputs": [
        {
          "data": {
            "text/plain": [
              "55000"
            ]
          },
          "execution_count": 18,
          "metadata": {},
          "output_type": "execute_result"
        }
      ],
      "source": [
        "len(X_train_full[5000:] )"
      ]
    },
    {
      "cell_type": "code",
      "execution_count": 19,
      "metadata": {
        "colab": {
          "base_uri": "https://localhost:8080/",
          "height": 430
        },
        "id": "7ndtCwll0f-X",
        "outputId": "c3cd838f-a396-4b8f-82ef-a0799a9cbb4a"
      },
      "outputs": [
        {
          "data": {
            "image/png": "[encoded data removed]",
            "text/plain": [
              "<Figure size 640x480 with 1 Axes>"
            ]
          },
          "metadata": {},
          "output_type": "display_data"
        }
      ],
      "source": [
        "# Lets view some data\n",
        "plt.imshow(X_train[0], cmap=\"binary\")\n",
        "plt.show()"
      ]
    },
    {
      "cell_type": "code",
      "execution_count": 20,
      "metadata": {
        "colab": {
          "base_uri": "https://localhost:8080/",
          "height": 1000
        },
        "id": "bIX_tQ3T0iRD",
        "outputId": "aa72e264-e035-4f2b-da6e-059b2d079a90"
      },
      "outputs": [
        {
          "data": {
            "text/plain": [
              "<Axes: >"
            ]
          },
          "execution_count": 20,
          "metadata": {},
          "output_type": "execute_result"
        },
        {
          "data": {
            "image/png": "[encoded data removed]",
            "text/plain": [
              "<Figure size 1500x1500 with 2 Axes>"
            ]
          },
          "metadata": {},
          "output_type": "display_data"
        }
      ],
      "source": [
        "plt.figure(figsize=(15,15))\n",
        "sns.heatmap(X_train[0], annot=True, cmap=\"binary\")"
      ]
    },
    {
      "cell_type": "markdown",
      "metadata": {
        "id": "gWaRi78i-Wvb"
      },
      "source": [
        "# Architecture Used:\n",
        "<img src=\"https://github.com/entbappy/Branching-tutorial/blob/master/9.png?raw=true\"\n",
        "width=\"500\"\n",
        "height=\"300\">"
      ]
    },
    {
      "cell_type": "code",
      "execution_count": 28,
      "metadata": {
        "id": "sGvWSfqY0keJ"
      },
      "outputs": [],
      "source": [
        "LAYERS = [\n",
        "    tf.keras.layers.Flatten(input_shape=[28, 28], name=\"inputLayer\"),\n",
        "    tf.keras.layers.Dense(300, activation=\"relu\", name=\"hiddenLayer1\", kernel_regularizer=tf.keras.regularizers.L2(0.01)),\n",
        "    tf.keras.layers.Dropout(0.2),\n",
        "    tf.keras.layers.BatchNormalization(),\n",
        "    tf.keras.layers.Dense(100, activation=\"relu\", name=\"hiddenLayer2\", kernel_regularizer=tf.keras.regularizers.L1L2(l1=0.01, l2=0.01)),\n",
        "    tf.keras.layers.BatchNormalization(),\n",
        "    tf.keras.layers.Dense(10, activation=\"softmax\", name=\"outputLayer\")\n",
        "]\n",
        "\n",
        "model_clf = tf.keras.models.Sequential(LAYERS)"
      ]
    },
    {
      "cell_type": "code",
      "execution_count": 29,
      "metadata": {
        "colab": {
          "base_uri": "https://localhost:8080/"
        },
        "id": "IkSRjh7m0vmm",
        "outputId": "ed0adf5b-7809-4f85-9e08-b88e0a7b66d3"
      },
      "outputs": [
        {
          "data": {
            "text/plain": [
              "[<keras.src.layers.reshaping.flatten.Flatten at 0x25f75b13110>,\n",
              " <keras.src.layers.core.dense.Dense at 0x25f7c393890>,\n",
              " <keras.src.layers.regularization.dropout.Dropout at 0x25f7c3cfb50>,\n",
              " <keras.src.layers.normalization.batch_normalization.BatchNormalization at 0x25f7c387090>,\n",
              " <keras.src.layers.core.dense.Dense at 0x25f7c2a5610>,\n",
              " <keras.src.layers.normalization.batch_normalization.BatchNormalization at 0x25f7caa0c90>,\n",
              " <keras.src.layers.core.dense.Dense at 0x25f7c393bd0>]"
            ]
          },
          "execution_count": 29,
          "metadata": {},
          "output_type": "execute_result"
        }
      ],
      "source": [
        "model_clf.layers"
      ]
    },
    {
      "cell_type": "code",
      "execution_count": 30,
      "metadata": {
        "colab": {
          "base_uri": "https://localhost:8080/"
        },
        "id": "tsRtHRha0z-X",
        "outputId": "0a2c5356-110d-4de4-a32c-cd6056f2f883"
      },
      "outputs": [
        {
          "name": "stdout",
          "output_type": "stream",
          "text": [
            "Model: \"sequential\"\n",
            "_________________________________________________________________\n",
            " Layer (type)                Output Shape              Param #   \n",
            "=================================================================\n",
            " inputLayer (Flatten)        (None, 784)               0         \n",
            "                                                                 \n",
            " hiddenLayer1 (Dense)        (None, 300)               235500    \n",
            "                                                                 \n",
            " dropout_1 (Dropout)         (None, 300)               0         \n",
            "                                                                 \n",
            " batch_normalization_5 (Bat  (None, 300)               1200      \n",
            " chNormalization)                                                \n",
            "                                                                 \n",
            " hiddenLayer2 (Dense)        (None, 100)               30100     \n",
            "                                                                 \n",
            " batch_normalization_6 (Bat  (None, 100)               400       \n",
            " chNormalization)                                                \n",
            "                                                                 \n",
            " outputLayer (Dense)         (None, 10)                1010      \n",
            "                                                                 \n",
            "=================================================================\n",
            "Total params: 268210 (1.02 MB)\n",
            "Trainable params: 267410 (1.02 MB)\n",
            "Non-trainable params: 800 (3.12 KB)\n",
            "_________________________________________________________________\n"
          ]
        }
      ],
      "source": [
        "model_clf.summary()"
      ]
    },
    {
      "cell_type": "code",
      "execution_count": null,
      "metadata": {
        "colab": {
          "base_uri": "https://localhost:8080/"
        },
        "id": "kEB0echJ02F1",
        "outputId": "4535ac13-0f41-4332-8a7b-618a8ae35f23"
      },
      "outputs": [
        {
          "data": {
            "text/plain": [
              "(235500, 30100, 1010)"
            ]
          },
          "execution_count": 16,
          "metadata": {},
          "output_type": "execute_result"
        }
      ],
      "source": [
        "# first Layer * second Layer + bias\n",
        "784*300 + 300, 300*100+100, 100*10+10"
      ]
    },
    {
      "cell_type": "code",
      "execution_count": null,
      "metadata": {
        "colab": {
          "base_uri": "https://localhost:8080/"
        },
        "id": "wnYO-DOB05gq",
        "outputId": "2978eecc-0092-4162-9d39-cf9de439545a"
      },
      "outputs": [
        {
          "data": {
            "text/plain": [
              "266610"
            ]
          },
          "execution_count": 17,
          "metadata": {},
          "output_type": "execute_result"
        }
      ],
      "source": [
        "# Total parameters to be trained\n",
        "sum((235500, 30100, 1010))"
      ]
    },
    {
      "cell_type": "code",
      "execution_count": 32,
      "metadata": {
        "colab": {
          "base_uri": "https://localhost:8080/",
          "height": 36
        },
        "id": "1GIEme5n08wL",
        "outputId": "1305bedd-9ba5-42e2-f739-2540777dcf57"
      },
      "outputs": [
        {
          "data": {
            "text/plain": [
              "'hiddenLayer1'"
            ]
          },
          "execution_count": 32,
          "metadata": {},
          "output_type": "execute_result"
        }
      ],
      "source": [
        "hidden1 = model_clf.layers[1]\n",
        "hidden1.name"
      ]
    },
    {
      "cell_type": "code",
      "execution_count": 33,
      "metadata": {
        "colab": {
          "base_uri": "https://localhost:8080/"
        },
        "id": "RWNnIcjd0_jj",
        "outputId": "96b92ee1-3c45-4ea7-d806-20ddd15c7f1e"
      },
      "outputs": [
        {
          "data": {
            "text/plain": [
              "300"
            ]
          },
          "execution_count": 33,
          "metadata": {},
          "output_type": "execute_result"
        }
      ],
      "source": [
        "len(hidden1.get_weights()[1])"
      ]
    },
    {
      "cell_type": "code",
      "execution_count": 34,
      "metadata": {
        "colab": {
          "base_uri": "https://localhost:8080/"
        },
        "id": "U15nIfVC1DQh",
        "outputId": "2a332835-f356-4a20-d047-fd466a50bff8"
      },
      "outputs": [
        {
          "data": {
            "text/plain": [
              "[array([[-0.07253473, -0.03113383, -0.00378953, ...,  0.04469662,\n",
              "          0.06645134, -0.01992376],\n",
              "        [ 0.00111783,  0.00199212, -0.06577964, ...,  0.07170787,\n",
              "         -0.04912497,  0.01831622],\n",
              "        [-0.02296495, -0.06574526,  0.06127198, ...,  0.03937992,\n",
              "          0.01958293, -0.05222336],\n",
              "        ...,\n",
              "        [-0.07145934,  0.00143868,  0.01395068, ..., -0.02240816,\n",
              "         -0.06461483, -0.00737806],\n",
              "        [ 0.00654587, -0.03173565, -0.05704173, ...,  0.07424252,\n",
              "          0.03147245, -0.02789513],\n",
              "        [-0.03643809, -0.00249337, -0.0525008 , ...,  0.01505766,\n",
              "          0.05901478,  0.05287686]], dtype=float32),\n",
              " array([0., 0., 0., 0., 0., 0., 0., 0., 0., 0., 0., 0., 0., 0., 0., 0., 0.,\n",
              "        0., 0., 0., 0., 0., 0., 0., 0., 0., 0., 0., 0., 0., 0., 0., 0., 0.,\n",
              "        0., 0., 0., 0., 0., 0., 0., 0., 0., 0., 0., 0., 0., 0., 0., 0., 0.,\n",
              "        0., 0., 0., 0., 0., 0., 0., 0., 0., 0., 0., 0., 0., 0., 0., 0., 0.,\n",
              "        0., 0., 0., 0., 0., 0., 0., 0., 0., 0., 0., 0., 0., 0., 0., 0., 0.,\n",
              "        0., 0., 0., 0., 0., 0., 0., 0., 0., 0., 0., 0., 0., 0., 0., 0., 0.,\n",
              "        0., 0., 0., 0., 0., 0., 0., 0., 0., 0., 0., 0., 0., 0., 0., 0., 0.,\n",
              "        0., 0., 0., 0., 0., 0., 0., 0., 0., 0., 0., 0., 0., 0., 0., 0., 0.,\n",
              "        0., 0., 0., 0., 0., 0., 0., 0., 0., 0., 0., 0., 0., 0., 0., 0., 0.,\n",
              "        0., 0., 0., 0., 0., 0., 0., 0., 0., 0., 0., 0., 0., 0., 0., 0., 0.,\n",
              "        0., 0., 0., 0., 0., 0., 0., 0., 0., 0., 0., 0., 0., 0., 0., 0., 0.,\n",
              "        0., 0., 0., 0., 0., 0., 0., 0., 0., 0., 0., 0., 0., 0., 0., 0., 0.,\n",
              "        0., 0., 0., 0., 0., 0., 0., 0., 0., 0., 0., 0., 0., 0., 0., 0., 0.,\n",
              "        0., 0., 0., 0., 0., 0., 0., 0., 0., 0., 0., 0., 0., 0., 0., 0., 0.,\n",
              "        0., 0., 0., 0., 0., 0., 0., 0., 0., 0., 0., 0., 0., 0., 0., 0., 0.,\n",
              "        0., 0., 0., 0., 0., 0., 0., 0., 0., 0., 0., 0., 0., 0., 0., 0., 0.,\n",
              "        0., 0., 0., 0., 0., 0., 0., 0., 0., 0., 0., 0., 0., 0., 0., 0., 0.,\n",
              "        0., 0., 0., 0., 0., 0., 0., 0., 0., 0., 0.], dtype=float32)]"
            ]
          },
          "execution_count": 34,
          "metadata": {},
          "output_type": "execute_result"
        }
      ],
      "source": [
        "hidden1.get_weights()"
      ]
    },
    {
      "cell_type": "code",
      "execution_count": 35,
      "metadata": {
        "id": "EiK1lO1D1hMt"
      },
      "outputs": [],
      "source": [
        "weights, biases = hidden1.get_weights()"
      ]
    },
    {
      "cell_type": "code",
      "execution_count": 36,
      "metadata": {
        "colab": {
          "base_uri": "https://localhost:8080/"
        },
        "id": "uwaadY4M1j9-",
        "outputId": "29e5ee1b-87f9-45fc-dfb0-d329cc11c1d2"
      },
      "outputs": [
        {
          "name": "stdout",
          "output_type": "stream",
          "text": [
            "shape\n",
            " (784, 300) \n",
            "\n"
          ]
        },
        {
          "data": {
            "text/plain": [
              "array([[-0.07253473, -0.03113383, -0.00378953, ...,  0.04469662,\n",
              "         0.06645134, -0.01992376],\n",
              "       [ 0.00111783,  0.00199212, -0.06577964, ...,  0.07170787,\n",
              "        -0.04912497,  0.01831622],\n",
              "       [-0.02296495, -0.06574526,  0.06127198, ...,  0.03937992,\n",
              "         0.01958293, -0.05222336],\n",
              "       ...,\n",
              "       [-0.07145934,  0.00143868,  0.01395068, ..., -0.02240816,\n",
              "        -0.06461483, -0.00737806],\n",
              "       [ 0.00654587, -0.03173565, -0.05704173, ...,  0.07424252,\n",
              "         0.03147245, -0.02789513],\n",
              "       [-0.03643809, -0.00249337, -0.0525008 , ...,  0.01505766,\n",
              "         0.05901478,  0.05287686]], dtype=float32)"
            ]
          },
          "execution_count": 36,
          "metadata": {},
          "output_type": "execute_result"
        }
      ],
      "source": [
        "print(\"shape\\n\",weights.shape, \"\\n\")\n",
        "weights"
      ]
    },
    {
      "cell_type": "code",
      "execution_count": 37,
      "metadata": {
        "colab": {
          "base_uri": "https://localhost:8080/"
        },
        "id": "ExppLUqR1mFG",
        "outputId": "95f8b415-3fc5-45c4-b4f4-98d1c5ea8d31"
      },
      "outputs": [
        {
          "name": "stdout",
          "output_type": "stream",
          "text": [
            "shape\n",
            " (300,)\n"
          ]
        }
      ],
      "source": [
        "print(\"shape\\n\", biases.shape)"
      ]
    },
    {
      "cell_type": "code",
      "execution_count": 38,
      "metadata": {
        "id": "MRj-5WMP1poj"
      },
      "outputs": [
        {
          "name": "stdout",
          "output_type": "stream",
          "text": [
            "WARNING:tensorflow:From c:\\Users\\shrey\\anaconda3\\Lib\\site-packages\\keras\\src\\optimizers\\__init__.py:309: The name tf.train.Optimizer is deprecated. Please use tf.compat.v1.train.Optimizer instead.\n",
            "\n"
          ]
        }
      ],
      "source": [
        "LOSS_FUNCTION = \"sparse_categorical_crossentropy\" # use => tf.losses.sparse_categorical_crossentropy\n",
        "OPTIMIZER = \"SGD\" # or use with custom learning rate=> tf.keras.optimizers.SGD(0.02)\n",
        "METRICS = [\"accuracy\"]\n",
        "\n",
        "model_clf.compile(loss=LOSS_FUNCTION,\n",
        "              optimizer=OPTIMIZER,\n",
        "              metrics=METRICS)\n"
      ]
    },
    {
      "cell_type": "code",
      "execution_count": 39,
      "metadata": {
        "colab": {
          "base_uri": "https://localhost:8080/"
        },
        "id": "kXY9Zk511xVX",
        "outputId": "b19dfbb1-3a36-43d7-fce9-d41dcf7be8e5"
      },
      "outputs": [
        {
          "name": "stdout",
          "output_type": "stream",
          "text": [
            "Epoch 1/10\n",
            "WARNING:tensorflow:From c:\\Users\\shrey\\anaconda3\\Lib\\site-packages\\keras\\src\\utils\\tf_utils.py:492: The name tf.ragged.RaggedTensorValue is deprecated. Please use tf.compat.v1.ragged.RaggedTensorValue instead.\n",
            "\n",
            "WARNING:tensorflow:From c:\\Users\\shrey\\anaconda3\\Lib\\site-packages\\keras\\src\\engine\\base_layer_utils.py:384: The name tf.executing_eagerly_outside_functions is deprecated. Please use tf.compat.v1.executing_eagerly_outside_functions instead.\n",
            "\n",
            "1719/1719 [==============================] - 22s 11ms/step - loss: 8.1531 - accuracy: 0.8629 - val_loss: 3.1471 - val_accuracy: 0.9348\n",
            "Epoch 2/10\n",
            "1719/1719 [==============================] - 7s 4ms/step - loss: 2.5208 - accuracy: 0.9066 - val_loss: 1.8671 - val_accuracy: 0.9434\n",
            "Epoch 3/10\n",
            "1719/1719 [==============================] - 7s 4ms/step - loss: 1.5713 - accuracy: 0.9205 - val_loss: 1.1963 - val_accuracy: 0.9484\n",
            "Epoch 4/10\n",
            "1719/1719 [==============================] - 12s 7ms/step - loss: 1.0875 - accuracy: 0.9281 - val_loss: 0.8716 - val_accuracy: 0.9544\n",
            "Epoch 5/10\n",
            "1719/1719 [==============================] - 15s 9ms/step - loss: 0.8561 - accuracy: 0.9306 - val_loss: 0.7588 - val_accuracy: 0.9452\n",
            "Epoch 6/10\n",
            "1719/1719 [==============================] - 8s 4ms/step - loss: 0.7387 - accuracy: 0.9312 - val_loss: 0.6770 - val_accuracy: 0.9498\n",
            "Epoch 7/10\n",
            "1719/1719 [==============================] - 8s 5ms/step - loss: 0.6773 - accuracy: 0.9324 - val_loss: 0.5958 - val_accuracy: 0.9532\n",
            "Epoch 8/10\n",
            "1719/1719 [==============================] - 15s 9ms/step - loss: 0.6323 - accuracy: 0.9334 - val_loss: 0.5994 - val_accuracy: 0.9382\n",
            "Epoch 9/10\n",
            "1719/1719 [==============================] - 8s 5ms/step - loss: 0.6048 - accuracy: 0.9325 - val_loss: 0.5017 - val_accuracy: 0.9612\n",
            "Epoch 10/10\n",
            "1719/1719 [==============================] - 7s 4ms/step - loss: 0.5800 - accuracy: 0.9324 - val_loss: 0.6247 - val_accuracy: 0.9268\n"
          ]
        }
      ],
      "source": [
        "# training\n",
        "\n",
        "EPOCHS = 10\n",
        "VALIDATION_SET = (X_valid, y_valid)\n",
        "\n",
        "history = model_clf.fit(X_train, y_train, epochs=EPOCHS,\n",
        "                    validation_data=VALIDATION_SET, batch_size=32)\n"
      ]
    },
    {
      "cell_type": "code",
      "execution_count": 40,
      "metadata": {
        "colab": {
          "base_uri": "https://localhost:8080/"
        },
        "id": "EKq756Wr2Nhq",
        "outputId": "6bbe3813-8fff-4af5-908b-e09d065cac90"
      },
      "outputs": [
        {
          "data": {
            "text/plain": [
              "{'verbose': 1, 'epochs': 10, 'steps': 1719}"
            ]
          },
          "execution_count": 40,
          "metadata": {},
          "output_type": "execute_result"
        }
      ],
      "source": [
        "history.params"
      ]
    },
    {
      "cell_type": "code",
      "execution_count": 41,
      "metadata": {
        "colab": {
          "base_uri": "https://localhost:8080/",
          "height": 990
        },
        "id": "le6Tw9LR20IP",
        "outputId": "a0f7cad1-d5b2-4b19-c4f8-7fb0f21ca893"
      },
      "outputs": [
        {
          "data": {
            "text/html": [
              "<div>\n",
              "<style scoped>\n",
              "    .dataframe tbody tr th:only-of-type {\n",
              "        vertical-align: middle;\n",
              "    }\n",
              "\n",
              "    .dataframe tbody tr th {\n",
              "        vertical-align: top;\n",
              "    }\n",
              "\n",
              "    .dataframe thead th {\n",
              "        text-align: right;\n",
              "    }\n",
              "</style>\n",
              "<table border=\"1\" class=\"dataframe\">\n",
              "  <thead>\n",
              "    <tr style=\"text-align: right;\">\n",
              "      <th></th>\n",
              "      <th>loss</th>\n",
              "      <th>accuracy</th>\n",
              "      <th>val_loss</th>\n",
              "      <th>val_accuracy</th>\n",
              "    </tr>\n",
              "  </thead>\n",
              "  <tbody>\n",
              "    <tr>\n",
              "      <th>0</th>\n",
              "      <td>8.153131</td>\n",
              "      <td>0.862909</td>\n",
              "      <td>3.147085</td>\n",
              "      <td>0.9348</td>\n",
              "    </tr>\n",
              "    <tr>\n",
              "      <th>1</th>\n",
              "      <td>2.520791</td>\n",
              "      <td>0.906582</td>\n",
              "      <td>1.867069</td>\n",
              "      <td>0.9434</td>\n",
              "    </tr>\n",
              "    <tr>\n",
              "      <th>2</th>\n",
              "      <td>1.571264</td>\n",
              "      <td>0.920527</td>\n",
              "      <td>1.196332</td>\n",
              "      <td>0.9484</td>\n",
              "    </tr>\n",
              "    <tr>\n",
              "      <th>3</th>\n",
              "      <td>1.087460</td>\n",
              "      <td>0.928091</td>\n",
              "      <td>0.871571</td>\n",
              "      <td>0.9544</td>\n",
              "    </tr>\n",
              "    <tr>\n",
              "      <th>4</th>\n",
              "      <td>0.856090</td>\n",
              "      <td>0.930600</td>\n",
              "      <td>0.758753</td>\n",
              "      <td>0.9452</td>\n",
              "    </tr>\n",
              "    <tr>\n",
              "      <th>5</th>\n",
              "      <td>0.738713</td>\n",
              "      <td>0.931236</td>\n",
              "      <td>0.677008</td>\n",
              "      <td>0.9498</td>\n",
              "    </tr>\n",
              "    <tr>\n",
              "      <th>6</th>\n",
              "      <td>0.677328</td>\n",
              "      <td>0.932436</td>\n",
              "      <td>0.595837</td>\n",
              "      <td>0.9532</td>\n",
              "    </tr>\n",
              "    <tr>\n",
              "      <th>7</th>\n",
              "      <td>0.632270</td>\n",
              "      <td>0.933382</td>\n",
              "      <td>0.599373</td>\n",
              "      <td>0.9382</td>\n",
              "    </tr>\n",
              "    <tr>\n",
              "      <th>8</th>\n",
              "      <td>0.604828</td>\n",
              "      <td>0.932473</td>\n",
              "      <td>0.501699</td>\n",
              "      <td>0.9612</td>\n",
              "    </tr>\n",
              "    <tr>\n",
              "      <th>9</th>\n",
              "      <td>0.580032</td>\n",
              "      <td>0.932418</td>\n",
              "      <td>0.624668</td>\n",
              "      <td>0.9268</td>\n",
              "    </tr>\n",
              "  </tbody>\n",
              "</table>\n",
              "</div>"
            ],
            "text/plain": [
              "       loss  accuracy  val_loss  val_accuracy\n",
              "0  8.153131  0.862909  3.147085        0.9348\n",
              "1  2.520791  0.906582  1.867069        0.9434\n",
              "2  1.571264  0.920527  1.196332        0.9484\n",
              "3  1.087460  0.928091  0.871571        0.9544\n",
              "4  0.856090  0.930600  0.758753        0.9452\n",
              "5  0.738713  0.931236  0.677008        0.9498\n",
              "6  0.677328  0.932436  0.595837        0.9532\n",
              "7  0.632270  0.933382  0.599373        0.9382\n",
              "8  0.604828  0.932473  0.501699        0.9612\n",
              "9  0.580032  0.932418  0.624668        0.9268"
            ]
          },
          "execution_count": 41,
          "metadata": {},
          "output_type": "execute_result"
        }
      ],
      "source": [
        "pd.DataFrame(history.history)"
      ]
    },
    {
      "cell_type": "code",
      "execution_count": 42,
      "metadata": {
        "colab": {
          "base_uri": "https://localhost:8080/",
          "height": 447
        },
        "id": "LxQHr9ra236P",
        "outputId": "6c6d166d-2638-4751-bada-461883566075"
      },
      "outputs": [
        {
          "data": {
            "text/plain": [
              "<Axes: >"
            ]
          },
          "execution_count": 42,
          "metadata": {},
          "output_type": "execute_result"
        },
        {
          "data": {
            "image/png": "[encoded data removed]",
            "text/plain": [
              "<Figure size 640x480 with 1 Axes>"
            ]
          },
          "metadata": {},
          "output_type": "display_data"
        }
      ],
      "source": [
        "pd.DataFrame(history.history).plot()"
      ]
    },
    {
      "cell_type": "code",
      "execution_count": 43,
      "metadata": {
        "colab": {
          "base_uri": "https://localhost:8080/"
        },
        "id": "qI9hBbze26iJ",
        "outputId": "57c61e36-57ee-4453-c824-b538171f0415"
      },
      "outputs": [
        {
          "name": "stdout",
          "output_type": "stream",
          "text": [
            "313/313 [==============================] - 1s 4ms/step - loss: 0.6174 - accuracy: 0.9298\n"
          ]
        },
        {
          "data": {
            "text/plain": [
              "[0.6174367666244507, 0.9297999739646912]"
            ]
          },
          "execution_count": 43,
          "metadata": {},
          "output_type": "execute_result"
        }
      ],
      "source": [
        "model_clf.evaluate(X_test, y_test)"
      ]
    },
    {
      "cell_type": "code",
      "execution_count": 44,
      "metadata": {
        "id": "AeGDSES629TB"
      },
      "outputs": [],
      "source": [
        "x_new = X_test[:3]\n",
        "# x_new"
      ]
    },
    {
      "cell_type": "code",
      "execution_count": 45,
      "metadata": {
        "colab": {
          "base_uri": "https://localhost:8080/"
        },
        "id": "RpIuW5e43AFv",
        "outputId": "d104b711-c5a8-4479-ebba-c26381ae8a5f"
      },
      "outputs": [
        {
          "data": {
            "text/plain": [
              "array([7, 2, 1], dtype=uint8)"
            ]
          },
          "execution_count": 45,
          "metadata": {},
          "output_type": "execute_result"
        }
      ],
      "source": [
        "actual = y_test[:3]\n",
        "actual"
      ]
    },
    {
      "cell_type": "code",
      "execution_count": 46,
      "metadata": {
        "colab": {
          "base_uri": "https://localhost:8080/"
        },
        "id": "BzDXCMrZ3FeN",
        "outputId": "19cec05d-4c42-4639-b922-61eafdb0959e"
      },
      "outputs": [
        {
          "name": "stdout",
          "output_type": "stream",
          "text": [
            "1/1 [==============================] - 0s 119ms/step\n"
          ]
        },
        {
          "data": {
            "text/plain": [
              "array([[0. , 0. , 0. , 0. , 0. , 0. , 0. , 1. , 0. , 0. ],\n",
              "       [0. , 0. , 0.8, 0.1, 0. , 0. , 0. , 0. , 0. , 0. ],\n",
              "       [0. , 1. , 0. , 0. , 0. , 0. , 0. , 0. , 0. , 0. ]], dtype=float32)"
            ]
          },
          "execution_count": 46,
          "metadata": {},
          "output_type": "execute_result"
        }
      ],
      "source": [
        "y_prob = model_clf.predict(x_new)\n",
        "y_prob.round(1)"
      ]
    },
    {
      "cell_type": "code",
      "execution_count": 47,
      "metadata": {
        "colab": {
          "base_uri": "https://localhost:8080/"
        },
        "id": "Ls3-bY-c3ICH",
        "outputId": "9600efb9-64ca-4178-db61-c30a4a39a62f"
      },
      "outputs": [
        {
          "data": {
            "text/plain": [
              "array([[1.3367998e-07, 3.1303814e-06, 3.3626652e-06, 2.5295385e-05,\n",
              "        7.3905626e-06, 1.0256234e-06, 6.5997774e-08, 9.9994743e-01,\n",
              "        9.7909549e-07, 1.1170746e-05],\n",
              "       [3.9338636e-05, 3.2826982e-02, 8.4152842e-01, 1.2431125e-01,\n",
              "        4.6999394e-06, 1.2090449e-03, 7.4265256e-05, 4.1189141e-06,\n",
              "        1.7151350e-06, 1.2925493e-07],\n",
              "       [7.0758638e-06, 9.8738295e-01, 1.4873861e-03, 3.3795810e-03,\n",
              "        3.0044401e-05, 4.5627174e-03, 1.3841275e-04, 4.0399481e-04,\n",
              "        2.5864304e-03, 2.1254684e-05]], dtype=float32)"
            ]
          },
          "execution_count": 47,
          "metadata": {},
          "output_type": "execute_result"
        }
      ],
      "source": [
        "y_prob"
      ]
    },
    {
      "cell_type": "code",
      "execution_count": 48,
      "metadata": {
        "id": "R9Z_1Jjb3LJK"
      },
      "outputs": [],
      "source": [
        "y_pred = np.argmax(y_prob, axis = -1)"
      ]
    },
    {
      "cell_type": "code",
      "execution_count": 49,
      "metadata": {
        "colab": {
          "base_uri": "https://localhost:8080/"
        },
        "id": "slkhjxIM3OdH",
        "outputId": "b0d81aae-7f9f-4b26-cbac-7ffd2b005e6b"
      },
      "outputs": [
        {
          "data": {
            "text/plain": [
              "array([7, 2, 1], dtype=int64)"
            ]
          },
          "execution_count": 49,
          "metadata": {},
          "output_type": "execute_result"
        }
      ],
      "source": [
        "y_pred"
      ]
    },
    {
      "cell_type": "code",
      "execution_count": 50,
      "metadata": {
        "colab": {
          "base_uri": "https://localhost:8080/"
        },
        "id": "QaKF_MPo3QvD",
        "outputId": "2209d0be-1721-4203-a0f9-b9d11523099c"
      },
      "outputs": [
        {
          "data": {
            "text/plain": [
              "array([7, 2, 1], dtype=uint8)"
            ]
          },
          "execution_count": 50,
          "metadata": {},
          "output_type": "execute_result"
        }
      ],
      "source": [
        "actual"
      ]
    },
    {
      "cell_type": "code",
      "execution_count": 51,
      "metadata": {
        "colab": {
          "base_uri": "https://localhost:8080/",
          "height": 1000
        },
        "id": "ER_8dhBT3R20",
        "outputId": "3e23d412-35e2-4d43-90a9-d3762b1e10e5"
      },
      "outputs": [
        {
          "data": {
            "image/png": "[encoded data removed]",
            "text/plain": [
              "<Figure size 640x480 with 1 Axes>"
            ]
          },
          "metadata": {},
          "output_type": "display_data"
        },
        {
          "name": "stdout",
          "output_type": "stream",
          "text": [
            "######################\n"
          ]
        },
        {
          "data": {
            "image/png": "[encoded data removed]",
            "text/plain": [
              "<Figure size 640x480 with 1 Axes>"
            ]
          },
          "metadata": {},
          "output_type": "display_data"
        },
        {
          "name": "stdout",
          "output_type": "stream",
          "text": [
            "######################\n"
          ]
        },
        {
          "data": {
            "image/png": "[encoded data removed]",
            "text/plain": [
              "<Figure size 640x480 with 1 Axes>"
            ]
          },
          "metadata": {},
          "output_type": "display_data"
        },
        {
          "name": "stdout",
          "output_type": "stream",
          "text": [
            "######################\n"
          ]
        }
      ],
      "source": [
        "# plot\n",
        "for data, pred, actual_data in zip(x_new, y_pred, actual):\n",
        "  plt.imshow(data, cmap=\"binary\")\n",
        "  plt.title(f\"Predicted {pred} and Actual {actual_data}\")\n",
        "  plt.axis(\"off\")\n",
        "  plt.show()\n",
        "  print(\"######################\")"
      ]
    }
  ],
  "metadata": {
    "accelerator": "GPU",
    "colab": {
      "provenance": []
    },
    "kernelspec": {
      "display_name": "Python 3 (ipykernel)",
      "language": "python",
      "name": "python3"
    },
    "language_info": {
      "codemirror_mode": {
        "name": "ipython",
        "version": 3
      },
      "file_extension": ".py",
      "mimetype": "text/x-python",
      "name": "python",
      "nbconvert_exporter": "python",
      "pygments_lexer": "ipython3",
      "version": "3.11.5"
    }
  },
  "nbformat": 4,
  "nbformat_minor": 0
}
